{
 "cells": [
  {
   "cell_type": "code",
   "execution_count": 1,
   "id": "bd68386d-a71d-4e5a-9fda-2a3f51770245",
   "metadata": {},
   "outputs": [],
   "source": [
    "import torch\n",
    "import pandas as pd\n",
    "import os\n",
    "from tqdm.auto import tqdm\n",
    "\n",
    "path = '../data/'\n",
    "data_list = os.listdir(path)\n",
    "num_epochs = 10"
   ]
  },
  {
   "cell_type": "code",
   "execution_count": 5,
   "id": "a07cd528-ade6-4b7e-ae7f-e34dd631b3be",
   "metadata": {},
   "outputs": [
    {
     "data": {
      "application/vnd.jupyter.widget-view+json": {
       "model_id": "a77d2ea6557c4751b7d40218e45d3844",
       "version_major": 2,
       "version_minor": 0
      },
      "text/plain": [
       "  0%|          | 0/5 [00:00<?, ?it/s]"
      ]
     },
     "metadata": {},
     "output_type": "display_data"
    },
    {
     "name": "stdout",
     "output_type": "stream",
     "text": [
      "train model for data_lzsa.csv\n",
      "{'input': tensor([0., 0., 0., 1.]), 'label': tensor(0)}\n",
      "avg loss = 1.0359719737420292\n",
      "train model for data_pca.csv\n",
      "{'input': tensor([0., 0., 0., 1.]), 'label': tensor(0)}\n",
      "avg loss = 0.9048225753919248\n",
      "train model for data_left_h.csv\n",
      "{'input': tensor([0., 0., 0., 1.]), 'label': tensor(0)}\n",
      "avg loss = 0.6804712809442264\n",
      "train model for data_right_h.csv\n",
      "{'input': tensor([0., 0., 0., 1.]), 'label': tensor(0)}\n",
      "avg loss = 0.5674048736126626\n",
      "train model for data_pzsa.csv\n",
      "{'input': tensor([0., 0., 0., 1.]), 'label': tensor(0)}\n",
      "avg loss = 1.0463487490964622\n"
     ]
    }
   ],
   "source": [
    "class Dataset(torch.utils.data.Dataset):\n",
    "    def __init__(\n",
    "        self,\n",
    "        samples\n",
    "    ):\n",
    "        self.samples = samples\n",
    "    def __len__(self):\n",
    "        return len(self.samples)\n",
    "    def __getitem__(\n",
    "        self, \n",
    "        idx\n",
    "    ):\n",
    "        sample = self.samples[idx]\n",
    "        return {\n",
    "            'input': torch.tensor(sample[:-1], dtype=torch.float32),\n",
    "            'label': torch.tensor(sample[-1], dtype=torch.int64)\n",
    "        }\n",
    "        \n",
    "class MLP(torch.nn.Module):\n",
    "    def __init__(\n",
    "        self,\n",
    "        input_dim=4,\n",
    "        hidden_dim=32,\n",
    "        num_labels=3,\n",
    "    ):\n",
    "        super().__init__()\n",
    "        self.model = torch.nn.Sequential(\n",
    "            torch.nn.Linear(input_dim, hidden_dim),\n",
    "            torch.nn.ReLU(),\n",
    "            torch.nn.Linear(hidden_dim, hidden_dim),\n",
    "            torch.nn.ReLU(),\n",
    "            torch.nn.Linear(hidden_dim, hidden_dim),\n",
    "            torch.nn.ReLU(),\n",
    "            torch.nn.Linear(hidden_dim, num_labels),\n",
    "        )\n",
    "    def forward(self, x):\n",
    "        return self.model(x)\n",
    "\n",
    "for data in tqdm(data_list):\n",
    "    print(f'train model for {data}')\n",
    "    samples = pd.read_csv(path+data).dropna()\n",
    "    model = MLP()\n",
    "    dataset = Dataset(samples.astype(int).values)\n",
    "    print(dataset[0])\n",
    "    opt = torch.optim.AdamW(model.parameters(), lr=1e-3, weight_decay=1e-2)\n",
    "    criterion = torch.nn.CrossEntropyLoss()\n",
    "\n",
    "    loader = torch.utils.data.DataLoader(\n",
    "        dataset=dataset,\n",
    "        batch_size=32,\n",
    "        shuffle=True\n",
    "    )\n",
    "    avg_loss = 0 \n",
    "    for _ in range(num_epochs):\n",
    "        for batch in loader:\n",
    "            opt.zero_grad()\n",
    "            logits = model(batch['input'])\n",
    "            loss = criterion(logits, batch['label'])\n",
    "            loss.backward()\n",
    "            opt.step()\n",
    "            avg_loss += loss.item()\n",
    "        avg_loss = avg_loss / len(loader)\n",
    "    print(f'avg loss = {avg_loss}')\n",
    "    torch.save(model.state_dict(), f'./models/mlp_{data}.pt')"
   ]
  }
 ],
 "metadata": {
  "kernelspec": {
   "display_name": "Python 3 (ipykernel)",
   "language": "python",
   "name": "python3"
  },
  "language_info": {
   "codemirror_mode": {
    "name": "ipython",
    "version": 3
   },
   "file_extension": ".py",
   "mimetype": "text/x-python",
   "name": "python",
   "nbconvert_exporter": "python",
   "pygments_lexer": "ipython3",
   "version": "3.10.12"
  }
 },
 "nbformat": 4,
 "nbformat_minor": 5
}
